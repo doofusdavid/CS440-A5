{
 "cells": [
  {
   "cell_type": "code",
   "execution_count": 42,
   "metadata": {
    "collapsed": true
   },
   "outputs": [],
   "source": [
    "import copy as copy\n",
    "\n",
    "def printState(state):\n",
    "    printState = copy.deepcopy(state)\n",
    "    maxLength = findLongest(printState)\n",
    "    for item in printState:\n",
    "        for x in range (len(item) , maxLength):\n",
    "            item.insert(0,(' ' * (maxLength - len(item))))\n",
    "\n",
    "    for i in range(maxLength):\n",
    "        for j in range(len(printState)):\n",
    "            print(\"  {}\".format(printState[j][i]), end='')\n",
    "        print()\n",
    "    print('--|--|--|--\\n\\n')\n",
    "\n",
    "\n",
    "def findLongest(state):\n",
    "    length = 0\n",
    "    for item in state:\n",
    "        length = max(length, len(item))\n",
    "\n",
    "    return length\n",
    "\n",
    "\n",
    "def validMoves(state):\n",
    "    validStates = []\n",
    "\n",
    "    for itemToMove in state:\n",
    "        # Check if the list is empty\n",
    "        if itemToMove:\n",
    "            # Iterate through the rest of the states\n",
    "            for placeToMove in range(len(state)):\n",
    "                # don't count as valid move if it's back to the same location\n",
    "                if state.index(itemToMove) != placeToMove:\n",
    "                    # valid move if the place to move is empty or the item to move is smaller\n",
    "                    if len(state[placeToMove]) == 0 or itemToMove[0] < state[placeToMove][0]:\n",
    "                        # append the tuple (move from, move to) to the valid states\n",
    "                        validStates.append([state.index(itemToMove)+1, placeToMove+1])\n",
    "    return validStates\n",
    "\n",
    "\n",
    "\n",
    "\n",
    "\n",
    "def makeMove(state, move):\n",
    "    item = state[move[0]-1].pop(0)\n",
    "    state[move[1]-1].insert(0, item)\n",
    "\n",
    "\n",
    "def unMakeMove(state, move):\n",
    "    item = state[move[1]-1].pop(0)\n",
    "    state[move[0]-1].insert(0, item)\n",
    "\n",
    "\n",
    "\n",
    "def winner(state):\n",
    "    board = [[], [], [1,2,3]]\n",
    "    return state == board\n"
   ]
  },
  {
   "cell_type": "code",
   "execution_count": 33,
   "metadata": {},
   "outputs": [
    {
     "name": "stdout",
     "output_type": "stream",
     "text": [
      "[(0, 1), (0, 2), (1, 2)]\n",
      "  1      \n",
      "  2  3    \n",
      "--|--|--|--\n",
      "\n",
      "\n"
     ]
    }
   ],
   "source": [
    "initialState = [[1,2,3],[],[]]\n",
    "initialState = [[1],[2],[3]]\n",
    "print(validMoves(initialState))\n",
    "myState = [[1 ,2] ,[3] ,[]]\n",
    "printState(myState)"
   ]
  },
  {
   "cell_type": "code",
   "execution_count": 26,
   "metadata": {},
   "outputs": [
    {
     "name": "stdout",
     "output_type": "stream",
     "text": [
      "     1   \n",
      "  2  3    \n",
      "--|--|--|--\n",
      "\n",
      "\n",
      "  2  3  1\n",
      "--|--|--|--\n",
      "\n",
      "\n",
      "  1      \n",
      "  2      3\n",
      "--|--|--|--\n",
      "\n",
      "\n",
      "3\n"
     ]
    }
   ],
   "source": [
    "for move in validMoves(myState):\n",
    "    makeMove(myState, move)\n",
    "    printState(myState)\n",
    "    unMakeMove(myState, move)\n",
    "    \n",
    "print(len(validMoves(myState)))"
   ]
  },
  {
   "cell_type": "code",
   "execution_count": 4,
   "metadata": {},
   "outputs": [
    {
     "data": {
      "text/plain": [
       "{(((1, 2, 3), (), ()), (0, 1)): 0}"
      ]
     },
     "execution_count": 4,
     "metadata": {},
     "output_type": "execute_result"
    }
   ],
   "source": [
    "Q = {}\n",
    "def myTupler(state):\n",
    "    '''Need immutable type for key to dictionary '''\n",
    "    superTuple = tuple(tuple(l) for l in state)\n",
    "    return superTuple\n",
    "    \n",
    "Q[myTupler(initialState),(0,1)] = 0\n",
    "Q"
   ]
  },
  {
   "cell_type": "code",
   "execution_count": 17,
   "metadata": {},
   "outputs": [
    {
     "name": "stdout",
     "output_type": "stream",
     "text": [
      "[(0, 1), (0, 2)]\n",
      "-0.271\n"
     ]
    },
    {
     "data": {
      "text/plain": [
       "{(((1, 2, 3), (), ()), (0, 1)): 0,\n",
       " (((1, 2, 3), (), ()), (0, 2)): -0.34390000000000004}"
      ]
     },
     "execution_count": 17,
     "metadata": {},
     "output_type": "execute_result"
    }
   ],
   "source": [
    "rho = 0.1\n",
    "import random\n",
    "import numpy as np\n",
    "# move = random.choice(validMoves(myState))\n",
    "move = (0,2)\n",
    "print(validMoves(initialState))\n",
    "print(Q.get((myTupler(initialState),move),0))\n",
    "\n",
    "Q[(myTupler(initialState),move)] = Q.get((myTupler(initialState),move),0) + rho * (-1 - Q.get((myTupler(initialState),move),0))\n",
    "Q"
   ]
  },
  {
   "cell_type": "code",
   "execution_count": 31,
   "metadata": {},
   "outputs": [
    {
     "name": "stdout",
     "output_type": "stream",
     "text": [
      "Q values for validMoves are [ 0.     -0.3439]\n",
      "[ 0.     -0.3439]\n"
     ]
    }
   ],
   "source": [
    "Qs = np.empty(len(validMoves(initialState)))\n",
    "Qs = np.array(list(Q.get((myTupler(initialState),m),0) for m in validMoves(initialState)))\n",
    "print('Q values for validMoves are',Qs)\n",
    "print(Qs)"
   ]
  },
  {
   "cell_type": "code",
   "execution_count": null,
   "metadata": {
    "collapsed": true
   },
   "outputs": [],
   "source": [
    "def epsilonGreedy(epsilon, Q, state):\n",
    "    validMoves = validMoves(state)\n",
    "    if np.random.uniform() < epsilon:\n",
    "        # Random Move\n",
    "        return random.choice(validMoves)\n",
    "    else:\n",
    "        # Greedy Move\n",
    "        Qs = np.array([Q.get((myTupler(state),m), 0) for m in validMoves]) \n",
    "        return validMoves[np.argmax(Qs)]\n",
    "    "
   ]
  },
  {
   "cell_type": "code",
   "execution_count": null,
   "metadata": {
    "collapsed": true
   },
   "outputs": [],
   "source": [
    "maxGames = 50000\n",
    "rho = 0.2\n",
    "epsilonDecayRate = 0.9999\n",
    "epsilon = 1.0\n",
    "Q = {}\n",
    "\n",
    "for nGames in range(maxGames):\n",
    "    epsilon *= epsilonDecayRate\n",
    "    epsilons[nGames] = epsilon\n",
    "    step = 0\n",
    "    state = [[1,2,3],[],[]]\n",
    "    done = False\n",
    "    \n",
    "    while not done:\n",
    "        step += 1\n",
    "        \n",
    "        move = epsilonGreedy(epsilon, Q, state)\n",
    "        if winner(state):\n",
    "            \n",
    "            \n",
    "        else:\n",
    "            steps += 1"
   ]
  },
  {
   "cell_type": "code",
   "execution_count": 43,
   "metadata": {},
   "outputs": [
    {
     "name": "stdout",
     "output_type": "stream",
     "text": [
      "\n",
      "Testing validMoves([[1], [2], [3]])\n",
      "\n",
      "--- 10/10 points. Correctly returned [[1, 2], [1, 3], [2, 3]]\n",
      "\n",
      "Testing validMoves([[], [], [1, 2, 3]])\n",
      "\n",
      "--- 10/10 points. Correctly returned [[3, 1], [3, 2]]\n",
      "\n",
      "Testing makeMove([[], [], [1, 2, 3]], [3, 2])\n",
      "\n",
      "--- makeMove raised the exception\n",
      " object of type 'NoneType' has no len()\n",
      "\n",
      "Testing makeMove([[2], [3], [1]], [1, 2])\n",
      "\n",
      "--- makeMove raised the exception\n",
      " object of type 'NoneType' has no len()\n",
      "\n",
      "Testing   Q, steps = trainQ(1000, 0.5, 0.7, validMoves, makeMove).\n",
      "\n",
      "--- trainQ raised the exception\n",
      " name 'trainQ' is not defined\n",
      "\n",
      "Testing   path = testQ(Q, 20, validMoves, makeMove).\n",
      "\n",
      "--- testQ raised the exception\n",
      " name 'testQ' is not defined\n",
      "\n",
      "A5 Execution Grade is 20/80\n",
      "\n",
      " Remaining 20 points will be based on your text describing the trainQ and test! functions.\n",
      "\n",
      "A5 FINAL GRADE is __/100\n"
     ]
    }
   ],
   "source": [
    "%run -i A5grader.py"
   ]
  },
  {
   "cell_type": "code",
   "execution_count": null,
   "metadata": {
    "collapsed": true
   },
   "outputs": [],
   "source": []
  }
 ],
 "metadata": {
  "kernelspec": {
   "display_name": "Python 3",
   "language": "python",
   "name": "python3"
  },
  "language_info": {
   "codemirror_mode": {
    "name": "ipython",
    "version": 3
   },
   "file_extension": ".py",
   "mimetype": "text/x-python",
   "name": "python",
   "nbconvert_exporter": "python",
   "pygments_lexer": "ipython3",
   "version": "3.6.2"
  }
 },
 "nbformat": 4,
 "nbformat_minor": 2
}
