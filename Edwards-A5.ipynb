{
 "cells": [
  {
   "cell_type": "code",
   "execution_count": 19,
   "metadata": {
    "collapsed": true
   },
   "outputs": [],
   "source": [
    "import copy as copy\n",
    "import numpy as np\n",
    "import random\n",
    "\n",
    "def printState(state):\n",
    "    stateCopy = copy.deepcopy(state)\n",
    "    maxLength = findLongest(stateCopy)\n",
    "    for item in stateCopy:\n",
    "        for x in range (len(item) , maxLength):\n",
    "            item.insert(0, ' ')\n",
    "\n",
    "    for i in range(maxLength):\n",
    "        for j in range(len(stateCopy)):\n",
    "            print(\"  {}\".format(stateCopy[j][i]), end='')\n",
    "        print()\n",
    "    print('--|--|--|--\\n\\n')\n",
    "\n",
    "\n",
    "def findLongest(state):\n",
    "    length = 0\n",
    "    for item in state:\n",
    "        length = max(length, len(item))\n",
    "\n",
    "    return length\n",
    "\n",
    "\n",
    "def validMoves(state):\n",
    "    validStates = []\n",
    "\n",
    "    for itemToMove in state:\n",
    "        # Check if the list is empty\n",
    "        if itemToMove:\n",
    "            # Iterate through the rest of the states\n",
    "            for placeToMove in range(len(state)):\n",
    "                # don't count as valid move if it's back to the same location\n",
    "                if state.index(itemToMove) != placeToMove:\n",
    "                    # valid move if the place to move is empty or the item to move is smaller\n",
    "                    if len(state[placeToMove]) == 0 or itemToMove[0] < state[placeToMove][0]:\n",
    "                        # append the tuple (move from, move to) to the valid states\n",
    "                        validStates.append([state.index(itemToMove)+1, placeToMove+1])\n",
    "    return validStates\n",
    "\n",
    "\n",
    "def makeMove(state, move):\n",
    "    item = state[move[0]-1].pop(0)\n",
    "    state[move[1]-1].insert(0, item)\n",
    "    return state\n",
    "\n",
    "\n",
    "def unMakeMove(state, move):\n",
    "    item = state[move[1]-1].pop(0)\n",
    "    state[move[0]-1].insert(0, item)\n",
    "    return state\n",
    "\n",
    "\n",
    "def winner(state):\n",
    "    board = [[], [], [1,2,3]]\n",
    "    return state == board\n",
    "\n",
    "def myTupler(state):\n",
    "    '''Need immutable type for key to dictionary '''\n",
    "    superTuple = tuple(tuple(s) for s in state)\n",
    "    return superTuple\n",
    "\n",
    "\n",
    "def epsilonGreedy(epsilon, Q, state, validMovesF):\n",
    "    goodMoves = validMovesF(state)\n",
    "    if np.random.uniform() < epsilon:\n",
    "        # Random Move\n",
    "        return tuple(random.choice(goodMoves))\n",
    "    else:\n",
    "        # Greedy Move\n",
    "        Qs = np.array([Q.get((myTupler(state),tuple(m)), 0) for m in goodMoves])\n",
    "        return tuple(goodMoves[np.argmax(Qs)])\n",
    "\n",
    "\n",
    "def trainQ(nRepetitions, learningRate, epsilonDecayFactor, validMovesF, makeMoveF):\n",
    "    maxGames = nRepetitions\n",
    "    rho = learningRate\n",
    "    epsilonDecayRate = epsilonDecayFactor\n",
    "    epsilon = 1.0\n",
    "    Q = {}\n",
    "    stepList = []\n",
    "    showMoves = False\n",
    "\n",
    "    for nGames in range(maxGames):\n",
    "        epsilon *= epsilonDecayRate\n",
    "        step = 0\n",
    "        state = [[1, 2, 3], [], []]\n",
    "        done = False\n",
    "\n",
    "        while not done:\n",
    "            step += 1\n",
    "            move = epsilonGreedy(epsilon, Q, state, validMovesF)\n",
    "            stateNew = copy.deepcopy(state)\n",
    "            makeMoveF(stateNew, move)\n",
    "            if (myTupler(state), move) not in Q:\n",
    "                Q[(myTupler(state), move)] = 0.0  # Initial Q value for new state, move\n",
    "            if showMoves:\n",
    "                printState(stateNew)\n",
    "            if winner(stateNew):\n",
    "                # We won!  backfill Q\n",
    "                if showMoves:\n",
    "                    print('End State, we won!')\n",
    "                Q[(myTupler(state), move)] = 1.0\n",
    "                done = True\n",
    "                stepList.append(step)\n",
    "\n",
    "            if step > 1:\n",
    "                #Q[(myTupler(stateOld), moveOld)] += rho * (Q[(myTupler(state), move)] - Q[(myTupler(stateOld), moveOld)])\n",
    "                Q[(myTupler(stateOld), moveOld)] += rho * (Q[(myTupler(state), move)] - Q[(myTupler(stateOld), moveOld)])\n",
    "\n",
    "            stateOld, moveOld = state, move\n",
    "            state = stateNew\n",
    "\n",
    "    print(epsilon)\n",
    "    return Q,stepList"
   ]
  },
  {
   "cell_type": "code",
   "execution_count": 33,
   "metadata": {},
   "outputs": [
    {
     "name": "stdout",
     "output_type": "stream",
     "text": [
      "[(0, 1), (0, 2), (1, 2)]\n",
      "  1      \n",
      "  2  3    \n",
      "--|--|--|--\n",
      "\n",
      "\n"
     ]
    }
   ],
   "source": [
    "initialState = [[1,2,3],[],[]]\n",
    "initialState = [[1],[2],[3]]\n",
    "print(validMoves(initialState))\n",
    "myState = [[1 ,2] ,[3] ,[]]\n",
    "printState(myState)"
   ]
  },
  {
   "cell_type": "code",
   "execution_count": 18,
   "metadata": {},
   "outputs": [
    {
     "ename": "NameError",
     "evalue": "name 'myState' is not defined",
     "output_type": "error",
     "traceback": [
      "\u001b[0;31m---------------------------------------------------------------------------\u001b[0m",
      "\u001b[0;31mNameError\u001b[0m                                 Traceback (most recent call last)",
      "\u001b[0;32m~/Google Drive/david.edwards@gmail.com/Work/CSU/CS440/A5/A5grader.py\u001b[0m in \u001b[0;36m<module>\u001b[0;34m()\u001b[0m\n\u001b[0;32m----> 1\u001b[0;31m \u001b[0;32mfor\u001b[0m \u001b[0mmove\u001b[0m \u001b[0;32min\u001b[0m \u001b[0mvalidMoves\u001b[0m\u001b[0;34m(\u001b[0m\u001b[0mmyState\u001b[0m\u001b[0;34m)\u001b[0m\u001b[0;34m:\u001b[0m\u001b[0;34m\u001b[0m\u001b[0m\n\u001b[0m\u001b[1;32m      2\u001b[0m     \u001b[0mmakeMove\u001b[0m\u001b[0;34m(\u001b[0m\u001b[0mmyState\u001b[0m\u001b[0;34m,\u001b[0m \u001b[0mmove\u001b[0m\u001b[0;34m)\u001b[0m\u001b[0;34m\u001b[0m\u001b[0m\n\u001b[1;32m      3\u001b[0m     \u001b[0mprintState\u001b[0m\u001b[0;34m(\u001b[0m\u001b[0mmyState\u001b[0m\u001b[0;34m)\u001b[0m\u001b[0;34m\u001b[0m\u001b[0m\n\u001b[1;32m      4\u001b[0m     \u001b[0munMakeMove\u001b[0m\u001b[0;34m(\u001b[0m\u001b[0mmyState\u001b[0m\u001b[0;34m,\u001b[0m \u001b[0mmove\u001b[0m\u001b[0;34m)\u001b[0m\u001b[0;34m\u001b[0m\u001b[0m\n\u001b[1;32m      5\u001b[0m \u001b[0;34m\u001b[0m\u001b[0m\n",
      "\u001b[0;31mNameError\u001b[0m: name 'myState' is not defined"
     ]
    }
   ],
   "source": [
    "for move in validMoves(myState):\n",
    "    makeMove(myState, move)\n",
    "    printState(myState)\n",
    "    unMakeMove(myState, move)\n",
    "    \n",
    "print(len(validMoves(myState)))"
   ]
  },
  {
   "cell_type": "code",
   "execution_count": 50,
   "metadata": {},
   "outputs": [
    {
     "data": {
      "text/plain": [
       "{(((1,), (2,), (3,)), (0, 1)): 0}"
      ]
     },
     "execution_count": 50,
     "metadata": {},
     "output_type": "execute_result"
    }
   ],
   "source": [
    "Q = {}\n",
    "def myTupler(state):\n",
    "    '''Need immutable type for key to dictionary '''\n",
    "    superTuple = tuple(tuple(l) for l in state)\n",
    "    return superTuple\n",
    "    \n",
    "Q[myTupler(initialState),(0,1)] = 0\n",
    "Q"
   ]
  },
  {
   "cell_type": "code",
   "execution_count": 53,
   "metadata": {},
   "outputs": [
    {
     "name": "stdout",
     "output_type": "stream",
     "text": [
      "[[1, 2], [1, 3], [2, 3]]\n",
      "-0.19\n"
     ]
    },
    {
     "data": {
      "text/plain": [
       "{(((1,), (2,), (3,)), (0, 1)): 0, (((1,), (2,), (3,)), (0, 2)): -0.271}"
      ]
     },
     "execution_count": 53,
     "metadata": {},
     "output_type": "execute_result"
    }
   ],
   "source": [
    "rho = 0.1\n",
    "import random\n",
    "import numpy as np\n",
    "# move = random.choice(validMoves(myState))\n",
    "move = (0,2)\n",
    "print(validMoves(initialState))\n",
    "print(Q.get((myTupler(initialState),move),0))\n",
    "\n",
    "Q[(myTupler(initialState),move)] = Q.get((myTupler(initialState),move),0) + rho * (-1 - Q.get((myTupler(initialState),move),0))\n",
    "Q"
   ]
  },
  {
   "cell_type": "code",
   "execution_count": 58,
   "metadata": {},
   "outputs": [
    {
     "ename": "SyntaxError",
     "evalue": "invalid syntax (<ipython-input-58-2f92837378e5>, line 3)",
     "output_type": "error",
     "traceback": [
      "\u001b[0;36m  File \u001b[0;32m\"<ipython-input-58-2f92837378e5>\"\u001b[0;36m, line \u001b[0;32m3\u001b[0m\n\u001b[0;31m    Qs = np.array((myTupler(initialState),m),0) for m in validMoves(initialState))\u001b[0m\n\u001b[0m                                                  ^\u001b[0m\n\u001b[0;31mSyntaxError\u001b[0m\u001b[0;31m:\u001b[0m invalid syntax\n"
     ]
    }
   ],
   "source": [
    "Qs = np.empty(len(validMoves(initialState)))\n",
    "print(initialState)\n",
    "Qs = np.array((myTupler(initialState),m),0) for m in validMoves(initialState))\n",
    "print('Q values for validMoves are',Qs)\n",
    "print(Qs)"
   ]
  },
  {
   "cell_type": "code",
   "execution_count": 24,
   "metadata": {},
   "outputs": [
    {
     "name": "stdout",
     "output_type": "stream",
     "text": [
      "\n",
      "Testing validMoves([[1], [2], [3]])\n",
      "\n",
      "--- 10/10 points. Correctly returned [[1, 2], [1, 3], [2, 3]]\n",
      "\n",
      "Testing validMoves([[], [], [1, 2, 3]])\n",
      "\n",
      "--- 10/10 points. Correctly returned [[3, 1], [3, 2]]\n",
      "\n",
      "Testing makeMove([[], [], [1, 2, 3]], [3, 2])\n",
      "\n",
      "--- 10/10 points. Correctly returned [[], [1], [2, 3]]\n",
      "\n",
      "Testing makeMove([[2], [3], [1]], [1, 2])\n",
      "\n",
      "--- 10/10 points. Correctly returned [[], [2, 3], [1]]\n",
      "\n",
      "Testing   Q, steps = trainQ(1000, 0.5, 0.7, validMoves, makeMove).\n",
      "1.253256639965641e-155\n",
      "\n",
      "---  0/10 points. Q dictionary should have close to 76 entries. Yours has 65\n",
      "\n",
      "---  0/10 points. The mean of the number of steps is incorrect.  Yours is 10.451.  It should be less than 10.\n",
      "\n",
      "Testing   path = testQ(Q, 20, validMoves, makeMove).\n",
      "\n",
      "--- testQ raised the exception\n",
      " name 'testQ' is not defined\n",
      "\n",
      "A5 Execution Grade is 40/80\n",
      "\n",
      " Remaining 20 points will be based on your text describing the trainQ and test! functions.\n",
      "\n",
      "A5 FINAL GRADE is __/100\n"
     ]
    }
   ],
   "source": [
    "%run -i A5grader.py"
   ]
  },
  {
   "cell_type": "code",
   "execution_count": null,
   "metadata": {
    "collapsed": true
   },
   "outputs": [],
   "source": []
  }
 ],
 "metadata": {
  "kernelspec": {
   "display_name": "Python 3",
   "language": "python",
   "name": "python3"
  },
  "language_info": {
   "codemirror_mode": {
    "name": "ipython",
    "version": 3
   },
   "file_extension": ".py",
   "mimetype": "text/x-python",
   "name": "python",
   "nbconvert_exporter": "python",
   "pygments_lexer": "ipython3",
   "version": "3.6.2"
  }
 },
 "nbformat": 4,
 "nbformat_minor": 2
}
